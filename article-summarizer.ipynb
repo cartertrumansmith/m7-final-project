{
 "cells": [
  {
   "cell_type": "markdown",
   "metadata": {},
   "source": [
    "# Web Mining and Applied NLP (44-620)\n",
    "\n",
    "## Final Project: Article Summarizer\n",
    "\n",
    "### Student Name: Carter Smith\n",
    "\n",
    "Perform the tasks described in the Markdown cells below.  When you have completed the assignment make sure your code cells have all been run (and have output beneath them) and ensure you have committed and pushed ALL of your changes to your assignment repository.\n",
    "\n",
    "You should bring in code from previous assignments to help you answer the questions below.\n",
    "\n",
    "Every question that requires you to write code will have a code cell underneath it; you may either write your entire solution in that cell or write it in a python file (`.py`), then import and run the appropriate code to answer the question."
   ]
  },
  {
   "cell_type": "markdown",
   "metadata": {},
   "source": [
    "1. Find on the internet an article or blog post about a topic that interests you and you are able to get the text for using the technologies we have applied in the course.  Get the html for the article and store it in a file (which you must submit with your project)"
   ]
  },
  {
   "cell_type": "code",
   "execution_count": 11,
   "metadata": {},
   "outputs": [
    {
     "name": "stdout",
     "output_type": "stream",
     "text": [
      "HTML content saved to ExtraPoint.html\n"
     ]
    }
   ],
   "source": [
    "import requests\n",
    "\n",
    "\n",
    "file_name = 'ExtraPoint.html'\n",
    "article_url = 'https://www.footballarchaeology.com/p/a-brief-history-of-footballs-extra-point'\n",
    "\n",
    "def fetch_and_save_html(url, filename):\n",
    "    try:\n",
    "        # Send a GET request to the URL\n",
    "        response = requests.get(url)\n",
    "        response.raise_for_status()  # Raise an exception for HTTP errors\n",
    "\n",
    "        # Write the HTML content to a file\n",
    "        with open(f'{filename}', 'w', encoding='utf-8') as file:\n",
    "            file.write(response.text)\n",
    "\n",
    "        print(f\"HTML content saved to {filename}\")\n",
    "    except requests.exceptions.RequestException as e:\n",
    "        print(f\"An error occurred: {e}\")\n",
    "\n",
    "fetch_and_save_html(article_url,file_name)"
   ]
  },
  {
   "cell_type": "markdown",
   "metadata": {},
   "source": [
    "2. Read in your article's html source from the file you created in question 1 and do sentiment analysis on the article/post's text (use `.get_text()`).  Print the polarity score with an appropriate label.  Additionally print the number of sentences in the original article (with an appropriate label)"
   ]
  },
  {
   "cell_type": "code",
   "execution_count": 16,
   "metadata": {},
   "outputs": [
    {
     "name": "stdout",
     "output_type": "stream",
     "text": [
      "Polarity score: 0.08932968574635242\n",
      "Number of sentences: 54\n"
     ]
    }
   ],
   "source": [
    "import spacy\n",
    "from spacytextblob.spacytextblob import SpacyTextBlob\n",
    "from bs4 import BeautifulSoup\n",
    "\n",
    "def analyze_sentiment_with_spacy(file_path):\n",
    "    try:\n",
    "        # Load the spaCy language model\n",
    "        nlp = spacy.load(\"en_core_web_sm\")\n",
    "\n",
    "        # Add the TextBlob sentiment analyzer to spaCy\n",
    "        nlp.add_pipe(\"spacytextblob\")\n",
    "\n",
    "        # Read the HTML file\n",
    "        with open(file_path, 'r', encoding='utf-8') as file:\n",
    "            html_content = file.read()\n",
    "\n",
    "        # Parse the HTML and extract text\n",
    "        soup = BeautifulSoup(html_content, 'html.parser')\n",
    "        text = soup.get_text()\n",
    "\n",
    "        # Process the text using spaCy\n",
    "        doc = nlp(text)\n",
    "\n",
    "        # Get the overall polarity score\n",
    "        polarity = doc._.blob.polarity\n",
    "\n",
    "        # Count the number of sentences\n",
    "        sentence_count = len(list(doc.sents))\n",
    "\n",
    "        # Print results\n",
    "        print(f\"Polarity score: {polarity}\")\n",
    "        print(f\"Number of sentences: {sentence_count}\")\n",
    "    except Exception as e:\n",
    "        print(f\"An error occurred: {e}\")\n",
    "\n",
    "analyze_sentiment_with_spacy(file_name)"
   ]
  },
  {
   "cell_type": "markdown",
   "metadata": {},
   "source": [
    "3. Load the article text into a trained `spaCy` pipeline, and determine the 5 most frequent tokens (converted to lower case).  Print the common tokens with an appropriate label.  Additionally, print the tokens their frequencies (with appropriate labels)"
   ]
  },
  {
   "cell_type": "code",
   "execution_count": 18,
   "metadata": {},
   "outputs": [
    {
     "name": "stdout",
     "output_type": "stream",
     "text": [
      "Top 5 Most Frequent Tokens:\n",
      "Token: touchdown, Frequency: 18\n",
      "Token: goal, Frequency: 18\n",
      "Token: kick, Frequency: 16\n",
      "Token: football, Frequency: 15\n",
      "Token: point, Frequency: 14\n"
     ]
    }
   ],
   "source": [
    "from collections import Counter\n",
    "\n",
    "def analyze_frequent_tokens(file_path):\n",
    "    try:\n",
    "        # Load the spaCy language model\n",
    "        nlp = spacy.load(\"en_core_web_sm\")\n",
    "\n",
    "        # Read the HTML file\n",
    "        with open(file_path, 'r', encoding='utf-8') as file:\n",
    "            html_content = file.read()\n",
    "\n",
    "        # Parse the HTML and extract text\n",
    "        soup = BeautifulSoup(html_content, 'html.parser')\n",
    "        text = soup.get_text()\n",
    "\n",
    "        # Process the text using spaCy\n",
    "        doc = nlp(text)\n",
    "\n",
    "        # Extract tokens, converted to lowercase, filtering out stop words, punctuation, and spaces\n",
    "        tokens = [token.text.lower() for token in doc if not token.is_stop and not token.is_punct and not token.is_space]\n",
    "\n",
    "        # Count token frequencies\n",
    "        token_freq = Counter(tokens)\n",
    "\n",
    "        # Get the 5 most common tokens\n",
    "        most_common = token_freq.most_common(5)\n",
    "\n",
    "        # Print results\n",
    "        print(\"Top 5 Most Frequent Tokens:\")\n",
    "        for token, freq in most_common:\n",
    "            print(f\"Token: {token}, Frequency: {freq}\")\n",
    "    except Exception as e:\n",
    "        print(f\"An error occurred: {e}\")\n",
    "\n",
    "# Example usage\n",
    "analyze_frequent_tokens(file_name)"
   ]
  },
  {
   "cell_type": "markdown",
   "metadata": {},
   "source": [
    "4. Load the article text into a trained `spaCy` pipeline, and determine the 5 most frequent lemmas (converted to lower case).  Print the common lemmas with an appropriate label.  Additionally, print the lemmas with their frequencies (with appropriate labels)."
   ]
  },
  {
   "cell_type": "code",
   "execution_count": 19,
   "metadata": {},
   "outputs": [
    {
     "name": "stdout",
     "output_type": "stream",
     "text": [
      "Top 5 Most Frequent Lemmas:\n",
      "Lemma: kick, Frequency: 27\n",
      "Lemma: goal, Frequency: 25\n",
      "Lemma: point, Frequency: 24\n",
      "Lemma: touchdown, Frequency: 21\n",
      "Lemma: football, Frequency: 15\n"
     ]
    }
   ],
   "source": [
    "def analyze_frequent_lemmas(file_path):\n",
    "    try:\n",
    "        # Load the spaCy language model\n",
    "        nlp = spacy.load(\"en_core_web_sm\")\n",
    "\n",
    "        # Read the HTML file\n",
    "        with open(file_path, 'r', encoding='utf-8') as file:\n",
    "            html_content = file.read()\n",
    "\n",
    "        # Parse the HTML and extract text\n",
    "        soup = BeautifulSoup(html_content, 'html.parser')\n",
    "        text = soup.get_text()\n",
    "\n",
    "        # Process the text using spaCy\n",
    "        doc = nlp(text)\n",
    "\n",
    "        # Extract lemmas, converted to lowercase, filtering out stop words, punctuation, and spaces\n",
    "        lemmas = [token.lemma_.lower() for token in doc if not token.is_stop and not token.is_punct and not token.is_space]\n",
    "\n",
    "        # Count lemma frequencies\n",
    "        lemma_freq = Counter(lemmas)\n",
    "\n",
    "        # Get the 5 most common lemmas\n",
    "        most_common = lemma_freq.most_common(5)\n",
    "\n",
    "        # Print results\n",
    "        print(\"Top 5 Most Frequent Lemmas:\")\n",
    "        for lemma, freq in most_common:\n",
    "            print(f\"Lemma: {lemma}, Frequency: {freq}\")\n",
    "    except Exception as e:\n",
    "        print(f\"An error occurred: {e}\")\n",
    "\n",
    "analyze_frequent_lemmas(file_name)"
   ]
  },
  {
   "cell_type": "markdown",
   "metadata": {},
   "source": [
    "5. Make a list containing the scores (using tokens) of every sentence in the article, and plot a histogram with appropriate titles and axis labels of the scores. From your histogram, what seems to be the most common range of scores (put the answer in a comment after your code)?"
   ]
  },
  {
   "cell_type": "code",
   "execution_count": null,
   "metadata": {},
   "outputs": [
    {
     "data": {
      "image/png": "[encoded data removed]",
      "text/plain": [
       "<Figure size 1000x600 with 1 Axes>"
      ]
     },
     "metadata": {},
     "output_type": "display_data"
    },
    {
     "name": "stdout",
     "output_type": "stream",
     "text": [
      "Sentence Scores:\n",
      "Sentence 1: 0.08750000000000001\n",
      "Sentence 2: -0.4333333333333333\n",
      "Sentence 3: 0.07777777777777779\n",
      "Sentence 4: 0.13333333333333333\n",
      "Sentence 5: 0.11875\n",
      "Sentence 6: 0.04999999999999999\n",
      "Sentence 7: 0.2\n",
      "Sentence 8: -0.15\n",
      "Sentence 9: 0.0\n",
      "Sentence 10: 0.3\n",
      "Sentence 11: 0.0\n",
      "Sentence 12: 0.16444444444444448\n",
      "Sentence 13: 0.375\n",
      "Sentence 14: 0.0\n",
      "Sentence 15: -0.2\n",
      "Sentence 16: 0.0\n",
      "Sentence 17: 0.0\n",
      "Sentence 18: 0.1514520202020202\n",
      "Sentence 19: -0.1\n",
      "Sentence 20: 0.0\n",
      "Sentence 21: 0.13636363636363635\n",
      "Sentence 22: 0.15000000000000002\n",
      "Sentence 23: 0.0\n",
      "Sentence 24: 0.05000000000000002\n",
      "Sentence 25: 0.0\n",
      "Sentence 26: 0.0\n",
      "Sentence 27: -0.2625\n",
      "Sentence 28: 0.4\n",
      "Sentence 29: -0.4\n",
      "Sentence 30: 0.39999999999999997\n",
      "Sentence 31: 0.4\n",
      "Sentence 32: -0.1\n",
      "Sentence 33: 0.033333333333333354\n",
      "Sentence 34: 0.0\n",
      "Sentence 35: 0.0\n",
      "Sentence 36: 0.05\n",
      "Sentence 37: 0.23750000000000002\n",
      "Sentence 38: 0.4\n",
      "Sentence 39: 0.0\n",
      "Sentence 40: 0.0\n",
      "Sentence 41: 0.0\n",
      "Sentence 42: 0.26666666666666666\n",
      "Sentence 43: 0.0\n",
      "Sentence 44: 0.05\n",
      "Sentence 45: 0.375\n",
      "Sentence 46: -0.2\n",
      "Sentence 47: 0.1\n",
      "Sentence 48: 0.0\n",
      "Sentence 49: 0.4\n",
      "Sentence 50: -0.125\n",
      "Sentence 51: 0.0\n",
      "Sentence 52: 0.8\n",
      "Sentence 53: 0.0\n",
      "Sentence 54: 0.0\n",
      "Analyze the histogram to determine the most common range.\n"
     ]
    }
   ],
   "source": [
    "import matplotlib.pyplot as plt\n",
    "from spacytextblob.spacytextblob import SpacyTextBlob\n",
    "\n",
    "def plot_sentence_scores(file_path):\n",
    "    try:\n",
    "        # Load the spaCy language model\n",
    "        nlp = spacy.load(\"en_core_web_sm\")\n",
    "\n",
    "        # Add the TextBlob sentiment analyzer to spaCy (ensures the extension is registered)\n",
    "        if \"spacytextblob\" not in nlp.pipe_names:\n",
    "            nlp.add_pipe(\"spacytextblob\", last=True)\n",
    "\n",
    "        # Read the HTML file\n",
    "        with open(file_path, 'r', encoding='utf-8') as file:\n",
    "            html_content = file.read()\n",
    "\n",
    "        # Parse the HTML and extract text\n",
    "        soup = BeautifulSoup(html_content, 'html.parser')\n",
    "        text = soup.get_text()\n",
    "\n",
    "        # Process the text using spaCy\n",
    "        doc = nlp(text)\n",
    "\n",
    "        # Compute sentiment scores for each sentence\n",
    "        sentence_scores = [sent._.blob.polarity for sent in doc.sents]\n",
    "\n",
    "        # Plot the histogram\n",
    "        plt.figure(figsize=(10, 6))\n",
    "        plt.hist(sentence_scores, bins=10, color='skyblue', edgecolor='black')\n",
    "        plt.title(\"Distribution of Sentence Sentiment Scores\")\n",
    "        plt.xlabel(\"Sentiment Score\")\n",
    "        plt.ylabel(\"Frequency\")\n",
    "        plt.grid(axis='y', linestyle='--', alpha=0.7)\n",
    "        plt.show()\n",
    "\n",
    "        # Print the sentence scores\n",
    "        print(\"Sentence Scores:\")\n",
    "        for i, score in enumerate(sentence_scores, 1):\n",
    "            print(f\"Sentence {i}: {score}\")\n",
    "\n",
    "        # Most common range comment\n",
    "        print(\"Analyze the histogram to determine the most common range.\")\n",
    "    except Exception as e:\n",
    "        print(f\"An error occurred: {e}\")\n",
    "\n",
    "plot_sentence_scores(file_name)\n",
    "\n",
    "#0.0 is the most common polarity score for sentences. Most sentences fall between -0.4 and 0.4, with one outlier sentence(52) being at 0.8"
   ]
  },
  {
   "cell_type": "markdown",
   "metadata": {},
   "source": [
    "6. Make a list containing the scores (using lemmas) of every sentence in the article, and plot a histogram with appropriate titles and axis labels of the scores.  From your histogram, what seems to be the most common range of scores (put the answer in a comment after your code)?"
   ]
  },
  {
   "cell_type": "code",
   "execution_count": null,
   "metadata": {},
   "outputs": [
    {
     "data": {
      "image/png": "[encoded data removed]",
      "text/plain": [
       "<Figure size 1000x600 with 1 Axes>"
      ]
     },
     "metadata": {},
     "output_type": "display_data"
    },
    {
     "name": "stdout",
     "output_type": "stream",
     "text": [
      "Lemma Sentence Scores:\n",
      "Sentence 1: 0.05500000000000001\n",
      "Sentence 2: -0.4333333333333333\n",
      "Sentence 3: 0.1787878787878788\n",
      "Sentence 4: 0.13333333333333333\n",
      "Sentence 5: -0.00833333333333334\n",
      "Sentence 6: 0.2\n",
      "Sentence 7: 0.4\n",
      "Sentence 8: 0.3\n",
      "Sentence 9: 0.0\n",
      "Sentence 10: 0.15\n",
      "Sentence 11: -0.8\n",
      "Sentence 12: 0.16\n",
      "Sentence 13: 0.375\n",
      "Sentence 14: 0.0\n",
      "Sentence 15: -0.4\n",
      "Sentence 16: 0.0\n",
      "Sentence 17: 0.0\n",
      "Sentence 18: 0.06628787878787878\n",
      "Sentence 19: -0.2\n",
      "Sentence 20: 0.0\n",
      "Sentence 21: 0.13636363636363635\n",
      "Sentence 22: -0.1\n",
      "Sentence 23: 0.0\n",
      "Sentence 24: 0.05000000000000002\n",
      "Sentence 25: 0.4\n",
      "Sentence 26: 0.0\n",
      "Sentence 27: 0.0\n",
      "Sentence 28: 0.4\n",
      "Sentence 29: 0.0\n",
      "Sentence 30: 0.39999999999999997\n",
      "Sentence 31: 0.4\n",
      "Sentence 32: 0.0\n",
      "Sentence 33: -0.4333333333333333\n",
      "Sentence 34: 0.1\n",
      "Sentence 35: 0.0\n",
      "Sentence 36: 0.04\n",
      "Sentence 37: 0.23750000000000002\n",
      "Sentence 38: 0.4\n",
      "Sentence 39: 0.0\n",
      "Sentence 40: 0.0\n",
      "Sentence 41: 0.0\n",
      "Sentence 42: -0.03333333333333335\n",
      "Sentence 43: 0.0\n",
      "Sentence 44: 0.05\n",
      "Sentence 45: 0.375\n",
      "Sentence 46: -0.2\n",
      "Sentence 47: -0.4\n",
      "Sentence 48: 0.0\n",
      "Sentence 49: 0.4\n",
      "Sentence 50: -0.125\n",
      "Sentence 51: 0.0\n",
      "Sentence 52: 0.8\n",
      "Sentence 53: 0.0\n",
      "Sentence 54: 0.0\n",
      "Analyze the histogram to determine the most common range.\n"
     ]
    }
   ],
   "source": [
    "def plot_lemma_sentence_scores(file_path):\n",
    "    try:\n",
    "        # Load the spaCy language model\n",
    "        nlp = spacy.load(\"en_core_web_sm\")\n",
    "\n",
    "        # Add the TextBlob sentiment analyzer to spaCy (ensures the extension is registered)\n",
    "        if \"spacytextblob\" not in nlp.pipe_names:\n",
    "            nlp.add_pipe(\"spacytextblob\", last=True)\n",
    "\n",
    "        # Read the HTML file\n",
    "        with open(file_path, 'r', encoding='utf-8') as file:\n",
    "            html_content = file.read()\n",
    "\n",
    "        # Parse the HTML and extract text\n",
    "        soup = BeautifulSoup(html_content, 'html.parser')\n",
    "        text = soup.get_text()\n",
    "\n",
    "        # Process the text using spaCy\n",
    "        doc = nlp(text)\n",
    "\n",
    "        # Extract sentences and compute scores using lemmas\n",
    "        lemma_sentences = [\n",
    "            \" \".join([token.lemma_ for token in sent if not token.is_stop and not token.is_punct])\n",
    "            for sent in doc.sents\n",
    "        ]\n",
    "        lemma_scores = [nlp(sentence)._.blob.polarity for sentence in lemma_sentences]\n",
    "\n",
    "        # Plot the histogram\n",
    "        plt.figure(figsize=(10, 6))\n",
    "        plt.hist(lemma_scores, bins=10, color='skyblue', edgecolor='black')\n",
    "        plt.title(\"Distribution of Sentence Sentiment Scores (Lemmas)\")\n",
    "        plt.xlabel(\"Sentiment Score\")\n",
    "        plt.ylabel(\"Frequency\")\n",
    "        plt.grid(axis='y', linestyle='--', alpha=0.7)\n",
    "        plt.show()\n",
    "\n",
    "        # Print the lemma sentence scores\n",
    "        print(\"Lemma Sentence Scores:\")\n",
    "        for i, score in enumerate(lemma_scores, 1):\n",
    "            print(f\"Sentence {i}: {score}\")\n",
    "\n",
    "        # Most common range comment\n",
    "        print(\"Analyze the histogram to determine the most common range.\")\n",
    "    except Exception as e:\n",
    "        print(f\"An error occurred: {e}\")\n",
    "\n",
    "plot_lemma_sentence_scores(file_name)\n",
    "\n",
    "#the lemma sentence scores shows a very similar distribution except for the addition of an outlier at -0.8"
   ]
  },
  {
   "cell_type": "markdown",
   "metadata": {},
   "source": [
    "7. Using the histograms from questions 5 and 6, decide a \"cutoff\" score for tokens and lemmas such that fewer than half the sentences would have a score greater than the cutoff score.  Record the scores in this Markdown cell\n",
    "\n",
    "* Cutoff Score (tokens): 0.05\n",
    "* Cutoff Score (lemmas): 0.0\n",
    "\n",
    "Feel free to change these scores as you generate your summaries.  Ideally, we're shooting for at least 6 sentences for our summary, but don't want more than 10 (these numbers are rough estimates; they depend on the length of your article)."
   ]
  },
  {
   "cell_type": "markdown",
   "metadata": {},
   "source": [
    "8. Create a summary of the article by going through every sentence in the article and adding it to an (initially) empty list if its score (based on tokens) is greater than the cutoff score you identified in question 8.  If your loop variable is named `sent`, you may find it easier to add `sent.text.strip()` to your list of sentences.  Print the summary (I would cleanly generate the summary text by `join`ing the strings in your list together with a space (`' '.join(sentence_list)`)."
   ]
  },
  {
   "cell_type": "code",
   "execution_count": 45,
   "metadata": {},
   "outputs": [
    {
     "name": "stdout",
     "output_type": "stream",
     "text": [
      "Those of us living in the 21st Century know the point(s) after touchdown are less important than the touchdown itself. The touchdown is primary and counts six points, while the point(s) after is secondary, worth one or two points, but that was not the case when football began. The Intercollegiate Football Association meeting of 1876, which established the rules of American football, adopted England’s Rugby Code almost verbatim, with the most significant exception being the game’s scoring. Under the rugby rules of the time, the team kicking the most goals won the game. Rugby did not differentiate goals kicked from the field (field goals) from those coming from a free kick following a try (or touchdown). Rather than keep rugby's rule, the IFA reduced the value of goals after touchdowns by making them worth one-fourth the value of a goal from field. Still, since football was less than a decade removed from rugby, kicking a goal from field (via drop kick) was the most highly valued play and earned five points. A touchdown followed by a successful goal after touchdown play resulted in six points, establishing the precedent that the ability to cross the opponent's goal line mattered. Originally, the ball remained live after a missed goal after touchdown, meaning the kicking team could recover the ball over the goal line for another touchdown or on the field of play, after which it was first down. That changed when two brothers who played for Otterbein wrote to Walter Camp about their idea for a new style of goal from field. Camp confirmed the legality of their approach, which had the center snap the ball to a teammate who placed the ball on the ground, holding it in position for the kicker to boot it. The placement kick became common when attempting field goals, but goals after touchdowns were free kicks. Princeton attempts a drop kicked point after touchdown, a free kick at the time. The referee and umpire kneel near the kicker to judge whether the kick is good. (1901 Princeton yearbook)Washington attempts a free goal after touchdown. (1912 Washington yearbook)A more dramatic difference between the drop kick versus the placement kick was the role of the puntout in executing the goal after touchdown. Those crossing the goal line in the middle of the field kicked from the middle of the field, while those scoring near the sideline kicked from near the sideline, unless they opted to puntout. Davidson had great confidence in their kicker or little confidence in their punter when they attempted this kick from near the sideline against Newberry in 1913. (1914 Davidson yearbook)With the elimination of the puntout, the rule makers gave the scoring team a free kick from anywhere on the field. The final set of changes came in 1958 when the college rules committee sought to both reduce the number of tie games while also competing with the NFL's more exciting play style. The rise of soccer-style kickers in the 1960s made the extra point attempt nearly automatic. Had there ever been a time to eliminate football's original scoring method, that was it. It offers hope for teams trailing in games that the correct combination of touchdowns and conversions might yet yield a victory. Subscribe for free and never miss a story. Terms ∙ Collection notice Start WritingGet the appSubstack is the home for great cultureShareCopy\n"
     ]
    }
   ],
   "source": [
    "def create_summary(file_path, cutoff_score):\n",
    "    try:\n",
    "        # Load the spaCy language model\n",
    "        nlp = spacy.load(\"en_core_web_sm\")\n",
    "\n",
    "        # Add the TextBlob sentiment analyzer to spaCy (ensures the extension is registered)\n",
    "        if \"spacytextblob\" not in nlp.pipe_names:\n",
    "            nlp.add_pipe(\"spacytextblob\", last=True)\n",
    "\n",
    "        # Read the HTML file\n",
    "        with open(file_path, 'r', encoding='utf-8') as file:\n",
    "            html_content = file.read()\n",
    "\n",
    "        # Parse the HTML and extract text\n",
    "        soup = BeautifulSoup(html_content, 'html.parser')\n",
    "        text = soup.get_text()\n",
    "\n",
    "        # Process the text using spaCy\n",
    "        doc = nlp(text)\n",
    "\n",
    "        # Initialize an empty list to store sentences that meet the cutoff score\n",
    "        sentence_list = []\n",
    "\n",
    "        # Iterate over sentences and check their sentiment scores\n",
    "        for idx, sent in enumerate(doc.sents):\n",
    "            # Skip the first sentence by checking its index, (contained Metadata and other junk that was giving bad results.)\n",
    "            if idx == 0:\n",
    "                continue  \n",
    "\n",
    "            # Get the sentiment score based on tokens (using spacytextblob)\n",
    "            sentiment_score = sent._.blob.polarity\n",
    "\n",
    "            # Check if the sentence is not empty, not just whitespace, and not just a newline\n",
    "            if sentiment_score > cutoff_score and len(sent.text.strip()) > 20:  # Ensure it's not too short\n",
    "                if sent.text.strip() and not sent.text.isspace():  # Exclude whitespace or newline only sentences\n",
    "                    sentence_list.append(sent.text.strip())\n",
    "        #print(sentence_list)\n",
    "        # Generate the summary by joining the selected sentences\n",
    "        summary = ' '.join(sentence_list)\n",
    "\n",
    "        # Print the summary\n",
    "        return summary\n",
    "        \n",
    "    except Exception as e:\n",
    "        print(f\"An error occurred: {e}\")\n",
    "\n",
    "summary = create_summary(file_name,0)\n",
    "print(summary)"
   ]
  },
  {
   "cell_type": "markdown",
   "metadata": {},
   "source": [
    "9. Print the polarity score of your summary you generated with the token scores (with an appropriate label). Additionally, print the number of sentences in the summarized article."
   ]
  },
  {
   "cell_type": "code",
   "execution_count": 47,
   "metadata": {},
   "outputs": [
    {
     "name": "stdout",
     "output_type": "stream",
     "text": [
      "Polarity score: 0.18938471250971253\n",
      "Number of sentences: 25\n"
     ]
    }
   ],
   "source": [
    "def analyze_sentiment(text):\n",
    "    try:\n",
    "        # Load the spaCy language model\n",
    "        nlp = spacy.load(\"en_core_web_sm\")\n",
    "\n",
    "        # Add the TextBlob sentiment analyzer to spaCy\n",
    "        nlp.add_pipe(\"spacytextblob\")\n",
    "\n",
    "        doc = nlp(text)\n",
    "\n",
    "        # Get the overall polarity score\n",
    "        polarity = doc._.blob.polarity\n",
    "\n",
    "        # Count the number of sentences\n",
    "        sentence_count = len(list(doc.sents))\n",
    "\n",
    "        # Print results\n",
    "        print(f\"Polarity score: {polarity}\")\n",
    "        print(f\"Number of sentences: {sentence_count}\")\n",
    "    except Exception as e:\n",
    "        print(f\"An error occurred: {e}\")\n",
    "\n",
    "analyze_sentiment(summary)"
   ]
  },
  {
   "cell_type": "markdown",
   "metadata": {},
   "source": [
    "10. Create a summary of the article by going through every sentence in the article and adding it to an (initially) empty list if its score (based on lemmas) is greater than the cutoff score you identified in question 8.  If your loop variable is named `sent`, you may find it easier to add `sent.text.strip()` to your list of sentences.  Print the summary (I would cleanly generate the summary text by `join`ing the strings in your list together with a space (`' '.join(sentence_list)`)."
   ]
  },
  {
   "cell_type": "code",
   "execution_count": 59,
   "metadata": {},
   "outputs": [
    {
     "name": "stdout",
     "output_type": "stream",
     "text": [
      "live 21st Century know point(s ) touchdown important touchdown . touchdown primary count point , point(s ) secondary , worth point , case football begin . rugby rule time , team kick goal win game . Rugby differentiate goal kick field ( field goal ) come free kick follow try ( touchdown ) . rugby , try ( touchdown ) worth point . rugby rule , IFA reduce value goal touchdown make worth - fourth value goal field . , football decade remove rugby , kick goal field ( drop kick ) highly value play earn point . touchdown follow successful goal touchdown play result point , establish precedent ability cross opponent goal line matter . originally , ball remain live miss goal touchdown , mean kicking team recover ball goal line touchdown field play , . change brother play Otterbein write Walter Camp idea new style goal field . placement kick common attempt field goal , goal touchdown free kick . free kick , player kicking team holder , lie ground . Princeton attempt drop kick point touchdown , free kick time . referee umpire kneel near kicker judge kick good . ( 1901 Princeton yearbook)Washington attempt free goal touchdown . early post cover puntout detail , repeat . cross goal line middle field kick middle field , score near sideline kick near sideline , opt puntout . Davidson great confidence kicker little confidence punter attempt kick near sideline Newberry 1913 . ( 1914 Davidson yearbook)With elimination puntout , rule maker give scoring team free kick field . rise soccer - style kicker 1960 extra point attempt nearly automatic . time eliminate football original scoring method , . subscribe free miss story . term ∙ collection notice Start WritingGet appsubstack home great culturesharecopy\n"
     ]
    }
   ],
   "source": [
    "def create_summary_based_on_lemmas(file_path, cutoff_score):\n",
    "    try:\n",
    "        # Load the spaCy language model\n",
    "        nlp = spacy.load(\"en_core_web_sm\")\n",
    "\n",
    "        # Add the TextBlob sentiment analyzer to spaCy (ensures the extension is registered)\n",
    "        if \"spacytextblob\" not in nlp.pipe_names:\n",
    "            nlp.add_pipe(\"spacytextblob\", last=True)\n",
    "\n",
    "        # Read the HTML file\n",
    "        with open(file_path, 'r', encoding='utf-8') as file:\n",
    "            html_content = file.read()\n",
    "\n",
    "        # Parse the HTML and extract text\n",
    "        soup = BeautifulSoup(html_content, 'html.parser')\n",
    "        text = soup.get_text()\n",
    "\n",
    "        # Process the text using spaCy\n",
    "        doc = nlp(text)\n",
    "\n",
    "        lemma_sentences = [\n",
    "            \" \".join([token.lemma_ for token in sent if not token.is_stop])\n",
    "            for sent in doc.sents\n",
    "        ]\n",
    "        lemma_scores = [nlp(sentence)._.blob.polarity for sentence in lemma_sentences]\n",
    "\n",
    "        sentence_list = []\n",
    "\n",
    "        for idx, sent in enumerate(lemma_sentences):\n",
    "            # Skip the first sentence by checking its index, (contained Metadata and other junk that was giving bad results.)\n",
    "            if idx == 0:\n",
    "                continue  \n",
    "            if lemma_scores[idx] >cutoff_score:\n",
    "                sentence_list.append(sent.strip())\n",
    "\n",
    "        # Generate the summary by joining the selected sentences\n",
    "        summary = ' '.join(sentence_list)\n",
    "\n",
    "        return summary\n",
    "        \n",
    "    except Exception as e:\n",
    "        print(f\"An error occurred: {e}\")\n",
    "lemma_summary = create_summary_based_on_lemmas(file_name,0)\n",
    "print(lemma_summary)\n"
   ]
  },
  {
   "cell_type": "markdown",
   "metadata": {},
   "source": [
    "11. Print the polarity score of your summary you generated with the lemma scores (with an appropriate label). Additionally, print the number of sentences in the summarized article."
   ]
  },
  {
   "cell_type": "code",
   "execution_count": 60,
   "metadata": {},
   "outputs": [
    {
     "name": "stdout",
     "output_type": "stream",
     "text": [
      "Polarity score: 0.213880266075388\n",
      "Number of sentences: 23\n"
     ]
    }
   ],
   "source": [
    "analyze_sentiment(lemma_summary)"
   ]
  },
  {
   "cell_type": "markdown",
   "metadata": {},
   "source": [
    "12.  Compare your polarity scores of your summaries to the polarity scores of the initial article.  Is there a difference?  Why do you think that may or may not be?.  Answer in this Markdown cell.  \n",
    "There is a difference in the scores, the lemma polarity score is higher than the standard text's polarity score, I think this may be due to the nlp losing some of the context of the original text and making 'Generalizations'"
   ]
  },
  {
   "cell_type": "markdown",
   "metadata": {},
   "source": [
    "13. Based on your reading of the original article, which summary do you think is better (if there's a difference).  Why do you think this might be?\n",
    "The sentence summary is better than the lemmatized summary, the lemmatized text does not add any context or hold any benefit, the lemmatized summary does however contain 2 less sentences overall."
   ]
  }
 ],
 "metadata": {
  "kernelspec": {
   "display_name": ".venv",
   "language": "python",
   "name": "python3"
  },
  "language_info": {
   "codemirror_mode": {
    "name": "ipython",
    "version": 3
   },
   "file_extension": ".py",
   "mimetype": "text/x-python",
   "name": "python",
   "nbconvert_exporter": "python",
   "pygments_lexer": "ipython3",
   "version": "3.11.0"
  }
 },
 "nbformat": 4,
 "nbformat_minor": 4
}
